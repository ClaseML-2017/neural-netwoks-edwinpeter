{
 "cells": [
  {
   "cell_type": "markdown",
   "metadata": {},
   "source": [
    "# 1. Logistic Regression for AND and XOR"
   ]
  },
  {
   "cell_type": "markdown",
   "metadata": {},
   "source": [
    "# AND"
   ]
  },
  {
   "cell_type": "code",
   "execution_count": 1,
   "metadata": {},
   "outputs": [],
   "source": [
    "import tensorflow as tf\n",
    "import numpy as np\n",
    "import matplotlib.pyplot as plt\n",
    "import random"
   ]
  },
  {
   "cell_type": "code",
   "execution_count": 81,
   "metadata": {},
   "outputs": [],
   "source": [
    "# AND\n",
    "ANDinput = np.asarray([[0,0],[0,1],[1,0],[1,1]])\n",
    "ANDoutput = np.asarray([[0],[0],[0],[1]])"
   ]
  },
  {
   "cell_type": "code",
   "execution_count": 82,
   "metadata": {},
   "outputs": [],
   "source": [
    "# tf Graph Input\n",
    "x = tf.placeholder(tf.float32, [None, 2])\n",
    "y = tf.placeholder(tf.float32, [None,1]) "
   ]
  },
  {
   "cell_type": "code",
   "execution_count": 83,
   "metadata": {},
   "outputs": [],
   "source": [
    "# Initialize weights\n",
    "\n",
    "W= tf.Variable(tf.random_uniform([2,1], -1, 1), name=\"W\")\n",
    "b = tf.Variable(tf.zeros([1]), name=\"b\")\n",
    "\n",
    "predict = tf.nn.sigmoid(tf.matmul(x,W)+b)"
   ]
  },
  {
   "cell_type": "code",
   "execution_count": 84,
   "metadata": {},
   "outputs": [],
   "source": [
    "# Loss function\n",
    "loss = tf.reduce_mean(tf.reduce_sum((y-predict)**2))"
   ]
  },
  {
   "cell_type": "code",
   "execution_count": 85,
   "metadata": {},
   "outputs": [],
   "source": [
    "learning_rate = 0.01\n",
    "epochs = 5000\n",
    "optimizer = tf.train.GradientDescentOptimizer(learning_rate).minimize(loss)"
   ]
  },
  {
   "cell_type": "code",
   "execution_count": 86,
   "metadata": {},
   "outputs": [],
   "source": [
    "init = tf.global_variables_initializer()\n",
    "sess = tf.Session()"
   ]
  },
  {
   "cell_type": "code",
   "execution_count": 87,
   "metadata": {},
   "outputs": [],
   "source": [
    "sess.run(init)\n",
    "for i in range(epochs):\n",
    "  sess.run(optimizer, feed_dict={x: ANDinput, y: ANDoutput})"
   ]
  },
  {
   "cell_type": "code",
   "execution_count": 88,
   "metadata": {},
   "outputs": [
    {
     "name": "stdout",
     "output_type": "stream",
     "text": [
      "('Predict: ', array([[ 0.34233156]], dtype=float32))\n",
      "[[ 2.63875246]\n",
      " [ 2.63873315]]\n"
     ]
    }
   ],
   "source": [
    "print(\"Predict: \", sess.run(predict, feed_dict={x:[[0.8,0.5]]}))\n",
    "print(sess.run(W, feed_dict={x: ANDinput, y: ANDoutput}))"
   ]
  },
  {
   "cell_type": "code",
   "execution_count": 89,
   "metadata": {},
   "outputs": [
    {
     "name": "stdout",
     "output_type": "stream",
     "text": [
      "1.0\n"
     ]
    }
   ],
   "source": [
    "correct_prediction = tf.equal(tf.round(predict),y)\n",
    "accuracy = tf.reduce_mean(tf.cast(correct_prediction, tf.float32))\n",
    "print(sess.run(accuracy, feed_dict={x: ANDinput, y: ANDoutput}))"
   ]
  },
  {
   "cell_type": "code",
   "execution_count": 90,
   "metadata": {},
   "outputs": [],
   "source": [
    "w=[sess.run(b, feed_dict={x: ANDinput, y: ANDoutput})[0]]+[i[0] for i in sess.run(W, feed_dict={x: ANDinput, y: ANDoutput})]"
   ]
  },
  {
   "cell_type": "code",
   "execution_count": 91,
   "metadata": {},
   "outputs": [
    {
     "name": "stdout",
     "output_type": "stream",
     "text": [
      "-4.08329 2.63875 2.63873\n"
     ]
    }
   ],
   "source": [
    "w0 = w[0]\n",
    "w1 = w[1]\n",
    "w2 = w[2]\n",
    "\n",
    "print w0, w1, w2"
   ]
  },
  {
   "cell_type": "code",
   "execution_count": 92,
   "metadata": {},
   "outputs": [
    {
     "name": "stdout",
     "output_type": "stream",
     "text": [
      "-1.0000073185\n"
     ]
    }
   ],
   "source": [
    "diffX = (-w0 / w1 - 0)\n",
    "diffY = (0 - (-w0 / w2))\n",
    "gradient = (diffY)/(diffX) \n",
    "print gradient"
   ]
  },
  {
   "cell_type": "code",
   "execution_count": 126,
   "metadata": {},
   "outputs": [
    {
     "data": {
      "image/png": "[encoded data removed]",
      "text/plain": [
       "<matplotlib.figure.Figure at 0x10e03b690>"
      ]
     },
     "metadata": {},
     "output_type": "display_data"
    }
   ],
   "source": [
    "plt.scatter(ANDinput[:,0],ANDinput[:,1],color=['blue' if i==1 else 'black' for i in ANDoutput])\n",
    "randompoints = np.linspace(-10,10,10) # 100 numeros espaciados\n",
    "plt.plot(randompoints,-w[0]/w[2] + gradient*randompoints ,color='blue')\n",
    "plt.ylim([-5,5])\n",
    "plt.xlim([-5,5])\n",
    "plt.show()"
   ]
  },
  {
   "cell_type": "markdown",
   "metadata": {},
   "source": [
    "# XOR"
   ]
  },
  {
   "cell_type": "code",
   "execution_count": 94,
   "metadata": {},
   "outputs": [],
   "source": [
    "# XOR\n",
    "XORinput = np.asarray([[0,0],[0,1],[1,0],[1,1]])\n",
    "XORoutput = np.asarray([[0],[1],[1],[0]])"
   ]
  },
  {
   "cell_type": "code",
   "execution_count": 95,
   "metadata": {},
   "outputs": [],
   "source": [
    "# tf Graph Input\n",
    "x = tf.placeholder(tf.float32, [None, 2])\n",
    "y = tf.placeholder(tf.float32, [None,1]) "
   ]
  },
  {
   "cell_type": "code",
   "execution_count": 96,
   "metadata": {},
   "outputs": [],
   "source": [
    "# Initialize weights\n",
    "\n",
    "W= tf.Variable(tf.random_uniform([2,1], -1, 1), name=\"W\")\n",
    "b = tf.Variable(tf.zeros([1]), name=\"b\")\n",
    "\n",
    "predict = tf.nn.sigmoid(tf.matmul(x,W)+b)"
   ]
  },
  {
   "cell_type": "code",
   "execution_count": 97,
   "metadata": {},
   "outputs": [],
   "source": [
    "# Loss function\n",
    "loss = tf.reduce_mean(tf.reduce_sum((y-predict)**2))"
   ]
  },
  {
   "cell_type": "code",
   "execution_count": 98,
   "metadata": {},
   "outputs": [],
   "source": [
    "learning_rate = 0.01\n",
    "epochs = 5000\n",
    "optimizer = tf.train.GradientDescentOptimizer(learning_rate).minimize(loss)"
   ]
  },
  {
   "cell_type": "code",
   "execution_count": 99,
   "metadata": {},
   "outputs": [],
   "source": [
    "init = tf.global_variables_initializer()\n",
    "sess = tf.Session()"
   ]
  },
  {
   "cell_type": "code",
   "execution_count": 100,
   "metadata": {},
   "outputs": [],
   "source": [
    "sess.run(init)\n",
    "for i in range(epochs):\n",
    "  sess.run(optimizer, feed_dict={x: XORinput, y: XORoutput})"
   ]
  },
  {
   "cell_type": "code",
   "execution_count": 101,
   "metadata": {},
   "outputs": [
    {
     "name": "stdout",
     "output_type": "stream",
     "text": [
      "('Predict: ', array([[ 0.4999668]], dtype=float32))\n",
      "[[-0.00122402]\n",
      " [-0.00129025]]\n"
     ]
    }
   ],
   "source": [
    "print(\"Predict: \", sess.run(predict, feed_dict={x:[[0.8,0.5]]}))\n",
    "print(sess.run(W, feed_dict={x: XORinput, y: XORoutput}))"
   ]
  },
  {
   "cell_type": "code",
   "execution_count": 102,
   "metadata": {},
   "outputs": [
    {
     "name": "stdout",
     "output_type": "stream",
     "text": [
      "0.75\n"
     ]
    }
   ],
   "source": [
    "correct_prediction = tf.equal(tf.round(predict),y)\n",
    "accuracy = tf.reduce_mean(tf.cast(correct_prediction, tf.float32))\n",
    "print(sess.run(accuracy, feed_dict={x: XORinput, y: XORoutput}))"
   ]
  },
  {
   "cell_type": "code",
   "execution_count": 103,
   "metadata": {},
   "outputs": [],
   "source": [
    "w=[sess.run(b, feed_dict={x: XORinput, y: XORoutput})[0]]+[i[0] for i in sess.run(W, feed_dict={x: XORinput, y: XORoutput})]"
   ]
  },
  {
   "cell_type": "code",
   "execution_count": 104,
   "metadata": {},
   "outputs": [
    {
     "name": "stdout",
     "output_type": "stream",
     "text": [
      "0.00149157 -0.00122402 -0.00129025\n"
     ]
    }
   ],
   "source": [
    "w0 = w[0]\n",
    "w1 = w[1]\n",
    "w2 = w[2]\n",
    "\n",
    "print w0, w1, w2"
   ]
  },
  {
   "cell_type": "code",
   "execution_count": 105,
   "metadata": {},
   "outputs": [
    {
     "name": "stdout",
     "output_type": "stream",
     "text": [
      "-0.94866873973\n"
     ]
    }
   ],
   "source": [
    "diffX = (-w0 / w1 - 0)\n",
    "diffY = (0 - (-w0 / w2))\n",
    "gradient = (diffY)/(diffX) \n",
    "print gradient"
   ]
  },
  {
   "cell_type": "code",
   "execution_count": 125,
   "metadata": {},
   "outputs": [
    {
     "data": {
      "image/png": "[encoded data removed]",
      "text/plain": [
       "<matplotlib.figure.Figure at 0x10d451d50>"
      ]
     },
     "metadata": {},
     "output_type": "display_data"
    }
   ],
   "source": [
    "boundary = np.linspace(-4,4,10)\n",
    "plt.plot(boundary,boundary - gradient/2,c='blue')\n",
    "plt.plot(boundary,boundary + gradient/2,c='blue')\n",
    "plt.scatter(XORinput[:,0],XORinput[:,1],color=['black' if i==1 else 'blue' for i in XORoutput])\n",
    "plt.ylim([-5,5])\n",
    "plt.xlim([-5,5])\n",
    "plt.show()"
   ]
  },
  {
   "cell_type": "markdown",
   "metadata": {},
   "source": [
    "# 2. ANN for XOR"
   ]
  },
  {
   "cell_type": "code",
   "execution_count": 131,
   "metadata": {},
   "outputs": [],
   "source": [
    "#XOR\n",
    "XORinput = np.asarray([[0,0],[0,1],[1,0],[1,1]])\n",
    "XORoutput = np.asarray([[0],[1],[1],[0]])"
   ]
  },
  {
   "cell_type": "code",
   "execution_count": 132,
   "metadata": {},
   "outputs": [],
   "source": [
    "inputlayer = tf.placeholder(tf.float32, shape=[4,2])\n",
    "inputweights = tf.Variable(tf.random_uniform([2,2], -1, 1))\n",
    "inputbias = tf.Variable(tf.zeros([2]))\n",
    "\n",
    "outputlayer = tf.placeholder(tf.float32, shape=[4,1])\n",
    "outputweights = tf.Variable(tf.random_uniform([2,1], -1, 1))\n",
    "outputbias = tf.Variable(tf.zeros([1]))\n"
   ]
  },
  {
   "cell_type": "code",
   "execution_count": 135,
   "metadata": {},
   "outputs": [],
   "source": [
    "hiddenlayer = tf.sigmoid(tf.matmul(inputlayer, inputweights) + inputbias)\n",
    "outputformula = tf.sigmoid(tf.matmul(hiddenlayer, outputweights) + outputbias)"
   ]
  },
  {
   "cell_type": "code",
   "execution_count": 136,
   "metadata": {},
   "outputs": [],
   "source": [
    "loss = tf.reduce_mean(((outputlayer * tf.log(outputformula)) +((1 - outputlayer) * tf.log(1.0 - outputformula)) ) * -1)"
   ]
  },
  {
   "cell_type": "code",
   "execution_count": 163,
   "metadata": {},
   "outputs": [
    {
     "name": "stdout",
     "output_type": "stream",
     "text": [
      "0.145168 -0.616171 0.454441\n"
     ]
    }
   ],
   "source": [
    "learning_rate = 0.03\n",
    "\n",
    "train_step = tf.train.GradientDescentOptimizer(learning_rate).minimize(loss)\n",
    "\n",
    "init = tf.global_variables_initializer()\n",
    "\n",
    "sess = tf.Session()\n",
    "sess.run(init)\n",
    "\n",
    "epochs = 1000\n",
    "\n",
    "for i in range(epochs):\n",
    "    sess.run(train_step, feed_dict={inputlayer: XORinput, outputlayer: XORoutput})\n",
    "    \n",
    "#print('Input Weight:', sess.run(inputweights))\n",
    "#print('Input Bias: ', sess.run(inputbias))\n",
    "#print('Output Weight: ', sess.run(outputweights))\n",
    "#print('Output Bias: ', sess.run(outputbias))\n",
    "\n",
    "w0 = sess.run(outputbias[0])\n",
    "w1 = sess.run(outputweights[0][0])\n",
    "w2 = sess.run(outputweights[1][0])\n",
    "\n",
    "print w0, w1, w2\n"
   ]
  },
  {
   "cell_type": "code",
   "execution_count": 166,
   "metadata": {},
   "outputs": [
    {
     "name": "stdout",
     "output_type": "stream",
     "text": [
      "1.35588831747\n"
     ]
    }
   ],
   "source": [
    "diffX = (-w0 / w1 - 0)\n",
    "diffY = (0 - (-w0 / w2))\n",
    "gradient = (diffY)/(diffX) \n",
    "print gradient"
   ]
  },
  {
   "cell_type": "code",
   "execution_count": 170,
   "metadata": {},
   "outputs": [
    {
     "data": {
      "image/png": "[encoded data removed]",
      "text/plain": [
       "<matplotlib.figure.Figure at 0x10f7631d0>"
      ]
     },
     "metadata": {},
     "output_type": "display_data"
    }
   ],
   "source": [
    "x = np.asarray(XORinput)[:,0]\n",
    "y = np.asarray(XORinput)[:,1]\n",
    "\n",
    "boundary = np.linspace(-4,4,10)\n",
    "plt.plot(boundary,boundary - gradient/2,c='red')\n",
    "plt.plot(boundary,boundary + gradient/2,c='red')\n",
    "plt.scatter(x, y, color=[\"black\" if i==1 else \"red\" for i in XORoutput])\n",
    "plt.ylim([-5,5])\n",
    "plt.xlim([-5,5])\n",
    "plt.show()"
   ]
  },
  {
   "cell_type": "markdown",
   "metadata": {},
   "source": [
    "# 3. ANN for circle data"
   ]
  },
  {
   "cell_type": "code",
   "execution_count": 153,
   "metadata": {},
   "outputs": [],
   "source": [
    "import matplotlib.patches as patches\n",
    "import matplotlib.path as path\n",
    "import math\n",
    "\n",
    "#Generate random points\n",
    "numberOfPoints = 10000\n",
    "randompoints = np.random.rand(numberOfPoints,2)*2\n",
    "xcor = randompoints[:,0]\n",
    "ycor = randompoints[:,1]\n",
    "#Create circle parameter\n",
    "radius = 0.5\n",
    "centre = (1,1)"
   ]
  },
  {
   "cell_type": "code",
   "execution_count": 155,
   "metadata": {},
   "outputs": [
    {
     "data": {
      "image/png": "[encoded data removed]",
      "text/plain": [
       "<matplotlib.figure.Figure at 0x111b0ce10>"
      ]
     },
     "metadata": {},
     "output_type": "display_data"
    }
   ],
   "source": [
    "upperlimit = centre[0] + radius\n",
    "lowerlimit = centre[0] - radius\n",
    "\n",
    "circledatainput = np.zeros(shape=(len(xcor),2))\n",
    "circledataoutput = np.zeros(shape=(len(xcor),1))\n",
    "\n",
    "for i,j,count in zip(xcor,ycor, range(len(xcor))):\n",
    "    dist = math.sqrt((centre[0] - i) ** 2 + (centre[1] - j) ** 2)\n",
    "    circledatainput[count] = i,j\n",
    "    if (dist<=radius):\n",
    "        circledataoutput[count] = 1\n",
    "    else:\n",
    "        circledataoutput[count] = 0\n",
    "\n",
    "circledatainput = np.asarray(circledatainput)\n",
    "circledataoutput = np.asarray(circledataoutput)\n",
    "fig1 = plt.figure()\n",
    "ax1 = fig1.add_subplot(111, aspect='equal')\n",
    "ax1.add_patch(patches.Circle(centre, radius, fill= False))\n",
    "plt.ylim([0,2])\n",
    "plt.xlim([0,2])\n",
    "plt.scatter(circledatainput[:,0],circledatainput[:,1],color=['black' if i==1 else 'blue' for i in circledataoutput])\n",
    "plt.show()"
   ]
  },
  {
   "cell_type": "code",
   "execution_count": 162,
   "metadata": {},
   "outputs": [],
   "source": [
    "input_size=2\n",
    "hidden_layers=4\n",
    "middle_layer=4\n",
    "output_size=1\n",
    "x = tf.placeholder(tf.float32,shape=[None,input_size])\n",
    "y = tf.placeholder(tf.float32,shape=[None,output_size])"
   ]
  },
  {
   "cell_type": "code",
   "execution_count": 163,
   "metadata": {},
   "outputs": [],
   "source": [
    "W1 = tf.Variable(tf.random_uniform([input_size,middle_layer], -1, 1), name=\"W1\")\n",
    "b1 = tf.Variable(tf.zeros([middle_layer]), name=\"b1\")"
   ]
  },
  {
   "cell_type": "code",
   "execution_count": 164,
   "metadata": {},
   "outputs": [],
   "source": [
    "W2 = tf.Variable(tf.random_uniform([hidden_layers,output_size], -1, 1), name=\"W2\")\n",
    "b2 = tf.Variable(tf.zeros([output_size]), name=\"b2\")"
   ]
  },
  {
   "cell_type": "code",
   "execution_count": 165,
   "metadata": {},
   "outputs": [],
   "source": [
    "hidden_1 = tf.nn.sigmoid(tf.matmul(x,W1)+b1)\n",
    "predict = tf.nn.sigmoid(tf.matmul(hidden_1,W2)+b2)\n",
    "loss = tf.reduce_mean(( (y * tf.log(predict) + ((1 - y) * tf.log(1.0 - predict)) ) * -1))\n",
    "\n",
    "learning_rate = 0.01\n",
    "train_step = tf.train.GradientDescentOptimizer(learning_rate).minimize(loss)"
   ]
  },
  {
   "cell_type": "code",
   "execution_count": 166,
   "metadata": {},
   "outputs": [],
   "source": [
    "init = tf.global_variables_initializer()\n",
    "sess = tf.Session()\n",
    "sess.run(init)"
   ]
  },
  {
   "cell_type": "code",
   "execution_count": 177,
   "metadata": {},
   "outputs": [],
   "source": [
    "epochs = 1000\n",
    "\n",
    "for i in range(epochs):\n",
    "    sess.run(train_step, feed_dict={x: circledatainput, y: circledataoutput})"
   ]
  },
  {
   "cell_type": "code",
   "execution_count": 176,
   "metadata": {},
   "outputs": [
    {
     "name": "stdout",
     "output_type": "stream",
     "text": [
      "0.803\n"
     ]
    }
   ],
   "source": [
    "correct_prediction = tf.equal(tf.round(predict),y) \n",
    "accuracy = tf.reduce_mean(tf.cast(correct_prediction, tf.float32))\n",
    "print(sess.run(accuracy, feed_dict={x: circledatainput, y: circledataoutput}))"
   ]
  },
  {
   "cell_type": "code",
   "execution_count": 175,
   "metadata": {},
   "outputs": [
    {
     "data": {
      "image/png": "[encoded data removed]",
      "text/plain": [
       "<matplotlib.figure.Figure at 0x111c4bfd0>"
      ]
     },
     "metadata": {},
     "output_type": "display_data"
    }
   ],
   "source": [
    "prediction = sess.run(predict,feed_dict={x:circledatainput})\n",
    "plt.scatter(circledatainput[:,0],circledatainput[:,1],color=['black' if i==1 else 'blue' for i in circledataoutput])\n",
    "plt.ylim([0,2])\n",
    "plt.xlim([0,2])\n",
    "plt.show()"
   ]
  }
 ],
 "metadata": {
  "kernelspec": {
   "display_name": "Python 2",
   "language": "python",
   "name": "python2"
  },
  "language_info": {
   "codemirror_mode": {
    "name": "ipython",
    "version": 2
   },
   "file_extension": ".py",
   "mimetype": "text/x-python",
   "name": "python",
   "nbconvert_exporter": "python",
   "pygments_lexer": "ipython2",
   "version": "2.7.11"
  }
 },
 "nbformat": 4,
 "nbformat_minor": 2
}
